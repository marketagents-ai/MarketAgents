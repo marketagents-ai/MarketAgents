{
 "cells": [
  {
   "cell_type": "code",
   "execution_count": 1,
   "metadata": {},
   "outputs": [],
   "source": [
    "from market_agents.economics.econ_agent import EconomicAgent, create_economic_agent\n",
    "from market_agents.economics.econ_models import Endowment, Basket, Good, Trade\n",
    "\n",
    "\n",
    "apple_buyer = create_economic_agent(\n",
    "    agent_id=\"apple_buyer\",\n",
    "    goods=[\"apple\"],\n",
    "    buy_goods=[\"apple\"],\n",
    "    sell_goods=[],\n",
    "    base_values={\"apple\": 100},\n",
    "    initial_cash=1000,\n",
    "    initial_goods={\"apple\": 0},\n",
    ")\n",
    "\n",
    "apple_seller = create_economic_agent(\n",
    "    agent_id=\"apple_seller\",\n",
    "    goods=[\"apple\"],\n",
    "    buy_goods=[],\n",
    "    sell_goods=[\"apple\"],\n",
    "    base_values={\"apple\": 80},\n",
    "    initial_cash=0,\n",
    "    initial_goods={\"apple\": 10},\n",
    ")\n"
   ]
  },
  {
   "cell_type": "code",
   "execution_count": 2,
   "metadata": {},
   "outputs": [
    {
     "name": "stdout",
     "output_type": "stream",
     "text": [
      "{1: 92.95297093966155, 2: 88.96515689463, 3: 80.752687377477, 4: 75.50230899347339, 5: 70.76323930048824, 6: 67.31191014315553, 7: 61.20004544572722, 8: 59.41039614308297, 9: 56.77022539796843, 10: 51.56048024441022, 11: 48.465310992116876, 12: 43.84072626612295, 13: 40.40893992027737, 14: 38.32253618794552, 15: 36.27643745981102, 16: 33.61242029690222, 17: 32.32471510236813, 18: 31.191226619757938, 19: 29.975018518762866, 20: 29.121246695414367}\n",
      "cash: 1000.0\n"
     ]
    },
    {
     "data": {
      "text/plain": [
       "1000.0"
      ]
     },
     "execution_count": 2,
     "metadata": {},
     "output_type": "execute_result"
    }
   ],
   "source": [
    "print(apple_buyer.value_schedules[\"apple\"].values)\n",
    "\n",
    "apple_buyer.current_utility\n"
   ]
  },
  {
   "cell_type": "code",
   "execution_count": null,
   "metadata": {},
   "outputs": [],
   "source": [
    "\n"
   ]
  },
  {
   "cell_type": "code",
   "execution_count": 3,
   "metadata": {},
   "outputs": [
    {
     "name": "stdout",
     "output_type": "stream",
     "text": [
      "quantity used for indexing cost schedule:  1\n",
      "price=74.06915684910769 quantity=1 is_buyer=True\n",
      "price=64.11430372457806 quantity=1 is_buyer=False\n",
      "trade_id=1 buyer_id='apple_buyer' seller_id='apple_seller' price=69.09173028684287 ask_price=64.11430372457806 bid_price=74.06915684910769 quantity=1 good_name='apple' timestamp=datetime.datetime(2024, 9, 13, 17, 48, 13, 741945)\n"
     ]
    }
   ],
   "source": [
    "bid = apple_buyer.generate_bid(\"apple\")\n",
    "ask = apple_seller.generate_ask(\"apple\")\n",
    "assert bid is not None\n",
    "assert ask is not None\n",
    "\n",
    "mid_price = (bid.price + ask.price) / 2\n",
    "trade = Trade(trade_id=1, buyer_id=apple_buyer.id, seller_id=apple_seller.id, price=mid_price, quantity=1, good_name=\"apple\",\n",
    "              ask_price=ask.price, bid_price=bid.price)\n",
    "\n",
    "print(bid)\n",
    "print(ask)\n",
    "print(trade)\n",
    "\n"
   ]
  },
  {
   "cell_type": "code",
   "execution_count": 4,
   "metadata": {},
   "outputs": [
    {
     "name": "stdout",
     "output_type": "stream",
     "text": [
      "{1: 60.50970328237236, 2: 63.86244213204955, 3: 69.42875602445292, 4: 73.55041971599323, 5: 75.25920823140605, 6: 80.17222514026176, 7: 85.85267974312652, 8: 93.57767428502041, 9: 100.59236046509474, 10: 108.80833671295356, 11: 118.99418703876943, 12: 121.64972197172436, 13: 125.65186674295545, 14: 136.77993306926516, 15: 143.11601823687195, 16: 152.04676964667752, 17: 164.4900386744005, 18: 172.97792514877017, 19: 188.76524559823892, 20: 198.44466343689373}\n",
      "cash: 0.0\n",
      "starting_quantity: 10, unsold_units: 10, sold_units: 0\n",
      "unsold_cost:  811.6138057327311\n",
      "cost of the sold units: 0\n",
      "811.6138057327311\n",
      "cash: 69.09173028684287\n",
      "starting_quantity: 10, unsold_units: 9, sold_units: 1\n",
      "unsold_cost:  751.1041024503587\n",
      "cost of the sold units: 60.50970328237236\n",
      "cash: 69.09173028684287\n",
      "starting_quantity: 10, unsold_units: 9, sold_units: 1\n",
      "unsold_cost:  751.1041024503587\n",
      "cost of the sold units: 60.50970328237236\n",
      "820.1958327372016\n"
     ]
    }
   ],
   "source": [
    "print(apple_seller.cost_schedules[\"apple\"].values)\n",
    "print(apple_seller.current_utility)\n",
    "# apple_buyer.process_trade(trade)\n",
    "apple_seller.process_trade(trade)\n",
    "# print(apple_buyer.current_utility)\n",
    "print(apple_seller.current_utility)\n"
   ]
  },
  {
   "cell_type": "code",
   "execution_count": 5,
   "metadata": {},
   "outputs": [
    {
     "ename": "NameError",
     "evalue": "name 'a' is not defined",
     "output_type": "error",
     "traceback": [
      "\u001b[1;31m---------------------------------------------------------------------------\u001b[0m",
      "\u001b[1;31mNameError\u001b[0m                                 Traceback (most recent call last)",
      "Cell \u001b[1;32mIn[5], line 1\u001b[0m\n\u001b[1;32m----> 1\u001b[0m \u001b[43ma\u001b[49m\n",
      "\u001b[1;31mNameError\u001b[0m: name 'a' is not defined"
     ]
    }
   ],
   "source": [
    "a"
   ]
  },
  {
   "cell_type": "code",
   "execution_count": null,
   "metadata": {},
   "outputs": [
    {
     "name": "stdout",
     "output_type": "stream",
     "text": [
      "{1: 94.02290018102889, 2: 90.02360564067791, 3: 86.87190706807353, 4: 80.74513455088898, 5: 77.53548203735792, 6: 74.78606967817007, 7: 67.32087724540156, 8: 65.7090714418602, 9: 63.54442111631384, 10: 59.17025937824185, 11: 55.07422742534276, 12: 51.66864988060501, 13: 49.046399081059654, 14: 47.61310145600639, 15: 45.47710640665189, 16: 41.98161643265063, 17: 38.63409970206537, 18: 35.26012167347366, 19: 33.46264889125232, 20: 30.845285338209262}\n",
      "94.02290018102889\n",
      "price=76.95840108288044 quantity=1 is_buyer=True\n",
      "90.02360564067791\n",
      "price=84.33290504259568 quantity=1 is_buyer=True\n",
      "86.87190706807353\n",
      "price=81.63709388282399 quantity=1 is_buyer=True\n",
      "80.74513455088898\n",
      "price=67.28937269444015 quantity=1 is_buyer=True\n",
      "77.53548203735792\n",
      "price=65.31676756817002 quantity=1 is_buyer=True\n",
      "74.78606967817007\n",
      "price=73.65485184740461 quantity=1 is_buyer=True\n",
      "67.32087724540156\n",
      "price=63.759706386055235 quantity=1 is_buyer=True\n",
      "65.7090714418602\n",
      "price=54.78365345444836 quantity=1 is_buyer=True\n",
      "63.54442111631384\n",
      "price=59.665004390832635 quantity=1 is_buyer=True\n",
      "59.17025937824185\n",
      "price=54.147248899597315 quantity=1 is_buyer=True\n",
      "55.07422742534276\n",
      "price=54.460695336921404 quantity=1 is_buyer=True\n",
      "51.66864988060501\n",
      "price=44.857534744846745 quantity=1 is_buyer=True\n",
      "49.046399081059654\n",
      "price=39.91011145425534 quantity=1 is_buyer=True\n",
      "47.61310145600639\n",
      "price=44.22831123937527 quantity=1 is_buyer=True\n",
      "45.47710640665189\n",
      "price=40.94975360416847 quantity=1 is_buyer=True\n",
      "41.98161643265063\n",
      "price=33.72201496620518 quantity=1 is_buyer=True\n",
      "38.63409970206537\n",
      "price=36.3929430704018 quantity=1 is_buyer=True\n",
      "35.26012167347366\n",
      "price=28.474334489049696 quantity=1 is_buyer=True\n",
      "33.46264889125232\n",
      "None\n",
      "33.46264889125232\n",
      "None\n",
      "{1: 94.02290018102889, 2: 90.02360564067791, 3: 86.87190706807353, 4: 80.74513455088898, 5: 77.53548203735792, 6: 74.78606967817007, 7: 67.32087724540156, 8: 65.7090714418602, 9: 63.54442111631384, 10: 59.17025937824185, 11: 55.07422742534276, 12: 51.66864988060501, 13: 49.046399081059654, 14: 47.61310145600639, 15: 45.47710640665189, 16: 41.98161643265063, 17: 38.63409970206537, 18: 35.26012167347366, 19: 33.46264889125232, 20: 30.845285338209262}\n"
     ]
    }
   ],
   "source": [
    "print(apple_buyer.value_schedules[\"apple\"].values)\n",
    "for i in range(apple_buyer.value_schedules[\"apple\"].num_units):\n",
    "    print(apple_buyer.get_current_value(\"apple\"))\n",
    "    print(apple_buyer.generate_bid(\"apple\"))\n",
    "print(apple_buyer.value_schedules[\"apple\"].values)\n"
   ]
  },
  {
   "cell_type": "code",
   "execution_count": null,
   "metadata": {},
   "outputs": [
    {
     "name": "stdout",
     "output_type": "stream",
     "text": [
      "{1: 58.89430235929936, 2: 61.72147550668514, 3: 63.068404127848716, 4: 65.97838938212072, 5: 69.20388980642663, 6: 70.64044362061716, 7: 72.24858856384115, 8: 75.869384343143, 9: 82.88798060303466, 10: 88.5516919529158, 11: 94.95203374053868, 12: 98.27060040770695, 13: 103.24530242953665, 14: 107.50431083553065, 15: 111.4364794617829, 16: 121.21040678190806, 17: 127.28730940695857, 18: 136.22367186338974, 19: 144.47110698470078, 20: 155.11161022067176}\n",
      "quantity used for indexing cost schedule:  1\n",
      "58.89430235929936\n",
      "quantity used for indexing cost schedule:  1\n",
      "price=67.4126765908172 quantity=1 is_buyer=False\n",
      "quantity used for indexing cost schedule:  2\n",
      "61.72147550668514\n",
      "quantity used for indexing cost schedule:  2\n",
      "price=66.89653582632567 quantity=1 is_buyer=False\n",
      "quantity used for indexing cost schedule:  3\n",
      "63.068404127848716\n",
      "quantity used for indexing cost schedule:  3\n",
      "price=66.00370610459821 quantity=1 is_buyer=False\n",
      "quantity used for indexing cost schedule:  4\n",
      "65.97838938212072\n",
      "quantity used for indexing cost schedule:  4\n",
      "price=68.99436942982113 quantity=1 is_buyer=False\n",
      "quantity used for indexing cost schedule:  5\n",
      "69.20388980642663\n",
      "quantity used for indexing cost schedule:  5\n",
      "price=77.61967022615237 quantity=1 is_buyer=False\n",
      "quantity used for indexing cost schedule:  6\n",
      "70.64044362061716\n",
      "quantity used for indexing cost schedule:  6\n",
      "price=80.33810625725289 quantity=1 is_buyer=False\n",
      "quantity used for indexing cost schedule:  7\n",
      "72.24858856384115\n",
      "quantity used for indexing cost schedule:  7\n",
      "price=76.8456478958753 quantity=1 is_buyer=False\n",
      "quantity used for indexing cost schedule:  8\n",
      "75.869384343143\n",
      "quantity used for indexing cost schedule:  8\n",
      "price=88.37654107847679 quantity=1 is_buyer=False\n",
      "quantity used for indexing cost schedule:  9\n",
      "82.88798060303466\n",
      "quantity used for indexing cost schedule:  9\n",
      "price=91.5490267717167 quantity=1 is_buyer=False\n",
      "quantity used for indexing cost schedule:  10\n",
      "88.5516919529158\n",
      "quantity used for indexing cost schedule:  10\n",
      "price=96.36929248394121 quantity=1 is_buyer=False\n",
      "quantity used for indexing cost schedule:  11\n",
      "94.95203374053868\n",
      "None\n",
      "quantity used for indexing cost schedule:  11\n",
      "94.95203374053868\n",
      "None\n",
      "quantity used for indexing cost schedule:  11\n",
      "94.95203374053868\n",
      "None\n",
      "quantity used for indexing cost schedule:  11\n",
      "94.95203374053868\n",
      "None\n",
      "quantity used for indexing cost schedule:  11\n",
      "94.95203374053868\n",
      "None\n",
      "quantity used for indexing cost schedule:  11\n",
      "94.95203374053868\n",
      "None\n",
      "quantity used for indexing cost schedule:  11\n",
      "94.95203374053868\n",
      "None\n",
      "quantity used for indexing cost schedule:  11\n",
      "94.95203374053868\n",
      "None\n",
      "quantity used for indexing cost schedule:  11\n",
      "94.95203374053868\n",
      "None\n",
      "quantity used for indexing cost schedule:  11\n",
      "94.95203374053868\n",
      "None\n",
      "{1: 58.89430235929936, 2: 61.72147550668514, 3: 63.068404127848716, 4: 65.97838938212072, 5: 69.20388980642663, 6: 70.64044362061716, 7: 72.24858856384115, 8: 75.869384343143, 9: 82.88798060303466, 10: 88.5516919529158, 11: 94.95203374053868, 12: 98.27060040770695, 13: 103.24530242953665, 14: 107.50431083553065, 15: 111.4364794617829, 16: 121.21040678190806, 17: 127.28730940695857, 18: 136.22367186338974, 19: 144.47110698470078, 20: 155.11161022067176}\n"
     ]
    }
   ],
   "source": [
    "print(apple_seller.cost_schedules[\"apple\"].values)\n",
    "for i in range(apple_seller.cost_schedules[\"apple\"].num_units):\n",
    "    print(apple_seller.get_current_cost(\"apple\"))\n",
    "    print(apple_seller.generate_ask(\"apple\"))\n",
    "print(apple_seller.cost_schedules[\"apple\"].values)\n"
   ]
  }
 ],
 "metadata": {
  "kernelspec": {
   "display_name": ".venv",
   "language": "python",
   "name": "python3"
  },
  "language_info": {
   "codemirror_mode": {
    "name": "ipython",
    "version": 3
   },
   "file_extension": ".py",
   "mimetype": "text/x-python",
   "name": "python",
   "nbconvert_exporter": "python",
   "pygments_lexer": "ipython3",
   "version": "3.12.4"
  }
 },
 "nbformat": 4,
 "nbformat_minor": 2
}
